{
 "cells": [
  {
   "cell_type": "code",
   "execution_count": 3,
   "metadata": {},
   "outputs": [
    {
     "name": "stdout",
     "output_type": "stream",
     "text": [
      "tensor([[1., 2.],\n",
      "        [4., 3.],\n",
      "        [5., 6.],\n",
      "        [8., 7.]], requires_grad=True)\n",
      "tensor([1., 4., 5., 8.], grad_fn=<SelectBackward0>)\n",
      "tensor([[ 0.,  1.],\n",
      "        [ 0., -1.],\n",
      "        [ 0.,  1.],\n",
      "        [ 0., -1.]], grad_fn=<SubBackward0>)\n",
      "tensor(0.8133, grad_fn=<MeanBackward0>)\n"
     ]
    }
   ],
   "source": [
    "import torch\n",
    "import numpy as np\n",
    "def loss_v2_plus_plus():\n",
    "    rewards = torch.tensor(np.array([[1,2],[4,3],[5,6],[8,7]],dtype=np.float32), requires_grad=True)\n",
    "    print(rewards)\n",
    "    print(rewards[:,0])\n",
    "    sub_first_rewards = rewards-rewards[:,0][:,None]\n",
    "    print(sub_first_rewards)\n",
    "    loss_value = torch.sum(sub_first_rewards.exp(), -1).log().mean()\n",
    "    return loss_value\n",
    "\n",
    "print(loss_v2_plus_plus())"
   ]
  }
 ],
 "metadata": {
  "kernelspec": {
   "display_name": "base",
   "language": "python",
   "name": "python3"
  },
  "language_info": {
   "codemirror_mode": {
    "name": "ipython",
    "version": 3
   },
   "file_extension": ".py",
   "mimetype": "text/x-python",
   "name": "python",
   "nbconvert_exporter": "python",
   "pygments_lexer": "ipython3",
   "version": "3.11.5"
  }
 },
 "nbformat": 4,
 "nbformat_minor": 2
}
